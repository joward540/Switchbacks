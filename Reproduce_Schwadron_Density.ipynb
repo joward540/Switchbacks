{
 "cells": [
  {
   "cell_type": "code",
   "execution_count": 1,
   "id": "a1e36284-6f14-4d1b-a07b-e6dcbc539428",
   "metadata": {},
   "outputs": [],
   "source": [
    "import numpy as np\n",
    "import pandas as pd\n",
    "import matplotlib.pyplot as plt"
   ]
  },
  {
   "cell_type": "code",
   "execution_count": 12,
   "id": "c3409e76-9474-48cd-a926-83caaec5f550",
   "metadata": {},
   "outputs": [],
   "source": [
    "table = np.genfromtxt('PSP_SWP_SPC_L3I_72861.txt', skip_header=75, skip_footer=3)"
   ]
  },
  {
   "cell_type": "code",
   "execution_count": 13,
   "id": "b31b1613-bfb5-40cc-aae8-9678c1c185b0",
   "metadata": {},
   "outputs": [],
   "source": [
    "main = np.array(table)"
   ]
  },
  {
   "cell_type": "code",
   "execution_count": 14,
   "id": "945e0e6f-edf3-426e-b7c9-b7da58d81392",
   "metadata": {},
   "outputs": [],
   "source": [
    "main_2 = main[:,1:]"
   ]
  },
  {
   "cell_type": "code",
   "execution_count": 15,
   "id": "202ed811-be34-4a60-a9dc-66b948588bca",
   "metadata": {},
   "outputs": [],
   "source": [
    "time_int1 = (1 / 24) * (1 / 60) * (1 / 60) * main_2[:,0]"
   ]
  },
  {
   "cell_type": "code",
   "execution_count": 16,
   "id": "ab841a61-c9fb-4939-aa21-9524d2896fcf",
   "metadata": {},
   "outputs": [],
   "source": [
    "time_int2 = time_int1 - 323"
   ]
  },
  {
   "cell_type": "code",
   "execution_count": 17,
   "id": "0349144b-d790-4e00-aba0-f1a4758ba69c",
   "metadata": {},
   "outputs": [],
   "source": [
    "time_h = time_int2 * 24"
   ]
  },
  {
   "cell_type": "code",
   "execution_count": 26,
   "id": "5398f8e1-7e46-4b32-9a95-b462afc830c1",
   "metadata": {},
   "outputs": [
    {
     "name": "stdout",
     "output_type": "stream",
     "text": [
      "[[ 1.00565133e+00  1.54960000e+01]\n",
      " [ 1.01341858e+00 -1.00000000e+31]\n",
      " [ 1.02118582e+00  1.96670000e+01]\n",
      " ...\n",
      " [ 1.09554852e+01 -1.00000000e+31]\n",
      " [ 1.09632525e+01  2.62488000e+01]\n",
      " [ 1.09710197e+01  1.71248000e+01]]\n"
     ]
    }
   ],
   "source": [
    "Main_fix = np.column_stack([time_h, main_2[:,1]])"
   ]
  },
  {
   "cell_type": "code",
   "execution_count": 25,
   "id": "63237e5e-7dfa-4f10-9669-11e7913d0bb4",
   "metadata": {},
   "outputs": [
    {
     "name": "stdout",
     "output_type": "stream",
     "text": [
      "[ 1.54960e+01 -1.00000e+31  1.96670e+01 ... -1.00000e+31  2.62488e+01\n",
      "  1.71248e+01]\n"
     ]
    }
   ],
   "source": [
    "x = Main_fix[:,0]\n",
    "y = Main_fix[:,1]"
   ]
  },
  {
   "cell_type": "code",
   "execution_count": 24,
   "id": "d84dccab-ab5c-4f4d-bdc8-cea6ddae01f6",
   "metadata": {},
   "outputs": [
    {
     "data": {
      "image/png": "[encoded data removed]",
      "text/plain": [
       "<Figure size 1152x72 with 1 Axes>"
      ]
     },
     "metadata": {
      "needs_background": "light"
     },
     "output_type": "display_data"
    }
   ],
   "source": [
    "plt.figure(figsize=(16,1))\n",
    "plt.xlim(1, 11)\n",
    "plt.ylim(9, 32)\n",
    "plt.ylabel(\"$cm^{-3}$\")\n",
    "\n",
    "plt.scatter(x, y, s=15)\n",
    "plt.show()"
   ]
  },
  {
   "cell_type": "code",
   "execution_count": null,
   "id": "ec807016-fd3d-44cb-bb3b-6ea6951345ce",
   "metadata": {},
   "outputs": [],
   "source": []
  }
 ],
 "metadata": {
  "kernelspec": {
   "display_name": "Python 3 (ipykernel)",
   "language": "python",
   "name": "python3"
  },
  "language_info": {
   "codemirror_mode": {
    "name": "ipython",
    "version": 3
   },
   "file_extension": ".py",
   "mimetype": "text/x-python",
   "name": "python",
   "nbconvert_exporter": "python",
   "pygments_lexer": "ipython3",
   "version": "3.9.12"
  }
 },
 "nbformat": 4,
 "nbformat_minor": 5
}
