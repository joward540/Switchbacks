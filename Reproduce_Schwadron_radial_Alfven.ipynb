{
 "cells": [
  {
   "cell_type": "code",
   "execution_count": 484,
   "id": "6dc0433f-f416-478b-921a-77df3e629294",
   "metadata": {},
   "outputs": [],
   "source": [
    "import numpy as np\n",
    "import pandas as pd\n",
    "import astropy.units as u\n",
    "import matplotlib.pyplot as plt"
   ]
  },
  {
   "cell_type": "code",
   "execution_count": 559,
   "id": "1883bbe2-c411-45c3-b4be-9b045eebb0d6",
   "metadata": {},
   "outputs": [],
   "source": [
    "mag_flux = np.genfromtxt('PSP_FLD_L2_MAG_RTN_1MIN_145910.txt', skip_header=59, skip_footer=3)\n",
    "density = np.genfromtxt('PSP_SWP_SPC_L3I_72861.txt', skip_header=76, skip_footer=3)"
   ]
  },
  {
   "cell_type": "code",
   "execution_count": 560,
   "id": "ce325602-a682-4d1a-8658-40e2b3975b86",
   "metadata": {},
   "outputs": [],
   "source": [
    "A = np.array(mag_flux)\n",
    "B = np.array(density)\n",
    "\n",
    "A_2 = A[:,1:]\n",
    "B_2 = B[:,1:]\n",
    "\n",
    "A_time_int1 = (1 / 24) * (1 / 60) * (1 / 60) * A_2[:,0]\n",
    "B_time_int1 = (1 / 24) * (1 / 60) * (1 / 60) * B_2[:,0]\n",
    "\n",
    "A_time_int2 = A_time_int1 - 323\n",
    "B_time_int2 = B_time_int1 - 323\n",
    "\n",
    "A_h = A_time_int2 * 24\n",
    "B_h = B_time_int2 * 24\n",
    "\n",
    "A_fix = np.column_stack([A_h, A_2[:,1:]])\n",
    "B_fix = np.column_stack([B_h, B_2[:,1:]])\n",
    "\n",
    "print(A_fix"
   ]
  },
  {
   "cell_type": "code",
   "execution_count": 561,
   "id": "260bd17a-b8b5-471a-b176-3f742c6ccfa6",
   "metadata": {},
   "outputs": [],
   "source": [
    "# Values for interpolation\n",
    "B_values = B_fix[:, 1]  #Interpolate values in 2nd col\n",
    "\n",
    "# Indices for interpolation\n",
    "x = np.linspace(0, len(B_values) - 1, len(A))\n",
    "\n",
    "# Linear interpolation\n",
    "B_rs = np.interp(x, np.arange(len(B_values)), B_values)"
   ]
  },
  {
   "cell_type": "code",
   "execution_count": 607,
   "id": "18984de2-55fb-40a2-9369-7e1eb0cd45d4",
   "metadata": {},
   "outputs": [],
   "source": [
    "m_p = (1.67 * 10**-27 * u.kg) # proton mass\n",
    "N = (A_fix[:,1] * 10**-9)/ (np.sqrt(4 * np.pi * m_p * B_rs * 10**5)) #convert nT to T (numerator) and cm^-3 to m^-3 then km (denominator)"
   ]
  },
  {
   "cell_type": "code",
   "execution_count": 608,
   "id": "36a53e5d-9f5c-414b-81df-9b9589b37cfe",
   "metadata": {},
   "outputs": [],
   "source": [
    "x1 = A_h\n",
    "y1 = np.abs(N)"
   ]
  },
  {
   "cell_type": "code",
   "execution_count": 609,
   "id": "237e0481-ff84-4252-b21c-f3321f487ae3",
   "metadata": {},
   "outputs": [
    {
     "data": {
      "image/png": "[encoded data removed]",
      "text/plain": [
       "<Figure size 1152x72 with 1 Axes>"
      ]
     },
     "metadata": {
      "needs_background": "light"
     },
     "output_type": "display_data"
    }
   ],
   "source": [
    "plt.figure(figsize=(16,1))\n",
    "plt.xlim(1, 11)\n",
    "plt.ylim(-10, 150)\n",
    "plt.ylabel(\"$|V_{AR}|$\")\n",
    "\n",
    "plt.scatter(x1, y1, s=15)\n",
    "plt.show()"
   ]
  },
  {
   "cell_type": "code",
   "execution_count": 621,
   "id": "9b40d15f-8918-44b4-946a-91a7aa25ed16",
   "metadata": {},
   "outputs": [
    {
     "data": {
      "image/png": "[encoded data removed]",
      "text/plain": [
       "<Figure size 1152x72 with 1 Axes>"
      ]
     },
     "metadata": {
      "needs_background": "light"
     },
     "output_type": "display_data"
    }
   ],
   "source": [
    "x1 = A_h\n",
    "y2 =(.58 * 150 / np.abs(N))**2\n",
    "plt.figure(figsize=(16,1))\n",
    "plt.xlim(1, 11)\n",
    "plt.ylim(0, 10)\n",
    "plt.ylabel(\"$|V_{AR}|$\")\n",
    "\n",
    "plt.scatter(x1, y2, s=15)\n",
    "plt.show()"
   ]
  },
  {
   "cell_type": "code",
   "execution_count": null,
   "id": "70892714-c4df-468d-af52-15e651f4e814",
   "metadata": {},
   "outputs": [],
   "source": []
  }
 ],
 "metadata": {
  "kernelspec": {
   "display_name": "Python 3 (ipykernel)",
   "language": "python",
   "name": "python3"
  },
  "language_info": {
   "codemirror_mode": {
    "name": "ipython",
    "version": 3
   },
   "file_extension": ".py",
   "mimetype": "text/x-python",
   "name": "python",
   "nbconvert_exporter": "python",
   "pygments_lexer": "ipython3",
   "version": "3.9.12"
  }
 },
 "nbformat": 4,
 "nbformat_minor": 5
}
