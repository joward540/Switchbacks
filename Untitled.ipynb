{
 "cells": [
  {
   "cell_type": "code",
   "execution_count": 14,
   "id": "ccbc7a07-450e-4a22-aabe-36fde312905b",
   "metadata": {},
   "outputs": [],
   "source": [
    "import numpy as np\n",
    "import pandas as pd\n",
    "import astropy.units as u\n",
    "import matplotlib.pyplot as plt"
   ]
  },
  {
   "cell_type": "code",
   "execution_count": 23,
   "id": "593fdac4-ddda-448f-9355-fe790590716f",
   "metadata": {},
   "outputs": [
    {
     "name": "stdout",
     "output_type": "stream",
     "text": [
      "[[2.01800000e+03 2.79111855e+07 6.41446000e+07]\n",
      " [2.01800000e+03 2.79255021e+07 6.46332000e+07]\n",
      " [2.01800000e+03 2.79398186e+07 6.51196000e+07]]\n"
     ]
    }
   ],
   "source": [
    "distance = np.genfromtxt('PSP_SWP_SPI_SF0A_L3_MOM_167546.txt', skip_header=44)"
   ]
  },
  {
   "cell_type": "code",
   "execution_count": 28,
   "id": "b048b65d-fb22-4562-93be-31d58156aa76",
   "metadata": {},
   "outputs": [
    {
     "name": "stdout",
     "output_type": "stream",
     "text": [
      "[1.10707794 5.08390479 9.06073157] [0.42878035 0.43204644 0.43529783]\n"
     ]
    },
    {
     "data": {
      "image/png": "[encoded data removed]",
      "text/plain": [
       "<Figure size 1152x72 with 1 Axes>"
      ]
     },
     "metadata": {
      "needs_background": "light"
     },
     "output_type": "display_data"
    }
   ],
   "source": [
    "main = distance[:,1:]\n",
    "time_int1 = (1 / 24) * (1 / 60) * (1 / 60) * main[:,0]\n",
    "time_int2 = time_int1 - 323\n",
    "time_h = time_int2 * 24\n",
    "Main_fix = np.column_stack([time_h, main[:,1:]])\n",
    "dist_AU = Main_fix[:,1] * (6.68459e-9) #convert km to AU\n",
    "\n",
    "x = Main_fix[:,0]\n",
    "y = dist_AU\n",
    "\n",
    "plt.figure(figsize=(16,1))\n",
    "plt.xlim(1, 11)\n",
    "plt.ylim(0.425, 0.440)\n",
    "plt.ylabel(\"$R (AU)$\")\n",
    "plt.plot(x, y, color='black')\n",
    "\n",
    "plt.show()"
   ]
  },
  {
   "cell_type": "code",
   "execution_count": null,
   "id": "f44a58bd-90b1-46e3-8540-6f0fc43af56a",
   "metadata": {},
   "outputs": [],
   "source": []
  }
 ],
 "metadata": {
  "kernelspec": {
   "display_name": "Python 3 (ipykernel)",
   "language": "python",
   "name": "python3"
  },
  "language_info": {
   "codemirror_mode": {
    "name": "ipython",
    "version": 3
   },
   "file_extension": ".py",
   "mimetype": "text/x-python",
   "name": "python",
   "nbconvert_exporter": "python",
   "pygments_lexer": "ipython3",
   "version": "3.9.12"
  }
 },
 "nbformat": 4,
 "nbformat_minor": 5
}
