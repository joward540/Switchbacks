{
 "cells": [
  {
   "cell_type": "code",
   "execution_count": 1,
   "id": "1c1797ba-86aa-4d2b-9bde-c0b5ed8fdb92",
   "metadata": {
    "tags": []
   },
   "outputs": [
    {
     "ename": "NameError",
     "evalue": "name 'np' is not defined",
     "output_type": "error",
     "traceback": [
      "\u001b[1;31m---------------------------------------------------------------------------\u001b[0m",
      "\u001b[1;31mNameError\u001b[0m                                 Traceback (most recent call last)",
      "Input \u001b[1;32mIn [1]\u001b[0m, in \u001b[0;36m<cell line: 6>\u001b[1;34m()\u001b[0m\n\u001b[0;32m      1\u001b[0m \u001b[38;5;28;01mimport\u001b[39;00m \u001b[38;5;21;01mitertools\u001b[39;00m\n\u001b[0;32m      3\u001b[0m \u001b[38;5;66;03m# Assuming B_r data is stored in the variable y1_1\u001b[39;00m\n\u001b[0;32m      4\u001b[0m \n\u001b[0;32m      5\u001b[0m \u001b[38;5;66;03m# Find sign changes in B_r\u001b[39;00m\n\u001b[1;32m----> 6\u001b[0m sign_changes \u001b[38;5;241m=\u001b[39m \u001b[43mnp\u001b[49m\u001b[38;5;241m.\u001b[39mdiff(np\u001b[38;5;241m.\u001b[39msign(y1_1))\n\u001b[0;32m      7\u001b[0m sign_changes \u001b[38;5;241m=\u001b[39m np\u001b[38;5;241m.\u001b[39mconcatenate(([\u001b[38;5;241m0\u001b[39m], sign_changes))  \u001b[38;5;66;03m# Pad with a zero at the beginning\u001b[39;00m\n\u001b[0;32m      9\u001b[0m \u001b[38;5;66;03m# Find consecutive groups of sign changes\u001b[39;00m\n",
      "\u001b[1;31mNameError\u001b[0m: name 'np' is not defined"
     ]
    }
   ],
   "source": [
    "import itertools\n",
    "\n",
    "# Assuming B_r data is stored in the variable y1_1\n",
    "\n",
    "# Find sign changes in B_r\n",
    "sign_changes = np.diff(np.sign(y1_1))\n",
    "sign_changes = np.concatenate(([0], sign_changes))  # Pad with a zero at the beginning\n",
    "\n",
    "# Find consecutive groups of sign changes\n",
    "groups = [(key, len(list(group))) for key, group in itertools.groupby(sign_changes)]\n",
    "\n",
    "# Filter regions based on criteria\n",
    "min_sign_changes = 2  # Minimum number of consecutive sign changes\n",
    "min_duration = 10  # Minimum duration in minutes\n",
    "max_duration = 45  # Maximum duration in minutes\n",
    "threshold = 10  # Threshold for absolute value of B_r\n",
    "\n",
    "# Find regions where absolute value of B_r is less than 10 for a period of 10-30 minutes\n",
    "low_br_regions = []\n",
    "for key, count in groups:\n",
    "    if count >= min_sign_changes and count <= (max_duration / duration_minutes):\n",
    "        indices = np.where(sign_changes == key)[0]\n",
    "        for i in range(0, len(indices)-count+1):\n",
    "            region_indices = indices[i:i+count]\n",
    "            region_br = y1_1[region_indices]\n",
    "            if np.all(np.abs(region_br) < threshold) and np.any(region_br < 0):\n",
    "                low_br_regions.append(region_indices)\n",
    "\n",
    "# Find regions where the sign of B_r changes at least 4 times in a span of 10-30 minutes\n",
    "sign_change_regions = []\n",
    "for key, count in groups:\n",
    "    if count >= min_sign_changes and count <= (max_duration / duration_minutes):\n",
    "        indices = np.where(sign_changes == key)[0]\n",
    "        for i in range(0, len(indices)-count+1):\n",
    "            region_indices = indices[i:i+count]\n",
    "            if len(np.unique(sign_changes[region_indices])) >= min_sign_changes and np.any(y1_1[region_indices] < 0):\n",
    "                sign_change_regions.append(region_indices)\n",
    "\n",
    "# Plot B_r\n",
    "fig = plt.figure(figsize=(12, 1))\n",
    "plt.plot(x1, y1_1, color='k', linewidth=1)\n",
    "\n",
    "# Plot shaded regions where absolute value of B_r is less than 10 for a period of 10-30 minutes\n",
    "for region_indices in low_br_regions:\n",
    "    start_index = region_indices[0]\n",
    "    end_index = region_indices[-1]\n",
    "    plt.axvspan(x1[start_index], x1[end_index], color='g', alpha=0.2)\n",
    "\n",
    "# Plot shaded regions where the sign of B_r changes at least 4 times in a span of 10-30 minutes\n",
    "for region_indices in sign_change_regions:\n",
    "    start_index = region_indices[0]\n",
    "    end_index = region_indices[-1]\n",
    "    plt.axvspan(x1[start_index], x1[end_index], color='red', alpha=0.2)\n",
    "\n",
    "# Set plot labels and properties\n",
    "plt.xlabel('Time')\n",
    "plt.ylabel('B_r')\n",
    "plt.title('B_r with Highlighted Regions')\n",
    "plt.grid(True)\n",
    "\n",
    "# Show the plot\n",
    "plt.show()\n"
   ]
  },
  {
   "cell_type": "code",
   "execution_count": null,
   "id": "e663bcb8-4012-4592-968d-f8b7a95858a2",
   "metadata": {},
   "outputs": [],
   "source": []
  }
 ],
 "metadata": {
  "kernelspec": {
   "display_name": "Python 3 (ipykernel)",
   "language": "python",
   "name": "python3"
  },
  "language_info": {
   "codemirror_mode": {
    "name": "ipython",
    "version": 3
   },
   "file_extension": ".py",
   "mimetype": "text/x-python",
   "name": "python",
   "nbconvert_exporter": "python",
   "pygments_lexer": "ipython3",
   "version": "3.9.12"
  }
 },
 "nbformat": 4,
 "nbformat_minor": 5
}
